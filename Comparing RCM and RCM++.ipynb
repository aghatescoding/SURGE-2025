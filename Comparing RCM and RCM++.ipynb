{
 "cells": [
  {
   "cell_type": "code",
   "execution_count": 12,
   "id": "dd236335-2c8c-45dc-9e08-1987530d89b2",
   "metadata": {},
   "outputs": [
    {
     "name": "stdout",
     "output_type": "stream",
     "text": [
      "Requirement already satisfied: ssgetpy in c:\\users\\asus\\appdata\\local\\programs\\python\\python311\\lib\\site-packages (1.0rc2)\n",
      "Requirement already satisfied: scipy in c:\\users\\asus\\appdata\\local\\programs\\python\\python311\\lib\\site-packages (1.13.1)\n",
      "Requirement already satisfied: requests>=2.22 in c:\\users\\asus\\appdata\\local\\programs\\python\\python311\\lib\\site-packages (from ssgetpy) (2.32.3)\n",
      "Requirement already satisfied: tqdm>=4.41 in c:\\users\\asus\\appdata\\local\\programs\\python\\python311\\lib\\site-packages (from ssgetpy) (4.66.4)\n",
      "Requirement already satisfied: numpy<2.3,>=1.22.4 in c:\\users\\asus\\appdata\\local\\programs\\python\\python311\\lib\\site-packages (from scipy) (1.26.4)\n",
      "Requirement already satisfied: charset-normalizer<4,>=2 in c:\\users\\asus\\appdata\\local\\programs\\python\\python311\\lib\\site-packages (from requests>=2.22->ssgetpy) (3.3.2)\n",
      "Requirement already satisfied: idna<4,>=2.5 in c:\\users\\asus\\appdata\\local\\programs\\python\\python311\\lib\\site-packages (from requests>=2.22->ssgetpy) (3.7)\n",
      "Requirement already satisfied: urllib3<3,>=1.21.1 in c:\\users\\asus\\appdata\\local\\programs\\python\\python311\\lib\\site-packages (from requests>=2.22->ssgetpy) (2.2.2)\n",
      "Requirement already satisfied: certifi>=2017.4.17 in c:\\users\\asus\\appdata\\local\\programs\\python\\python311\\lib\\site-packages (from requests>=2.22->ssgetpy) (2024.6.2)\n",
      "Requirement already satisfied: colorama in c:\\users\\asus\\appdata\\local\\programs\\python\\python311\\lib\\site-packages (from tqdm>=4.41->ssgetpy) (0.4.6)\n",
      "Note: you may need to restart the kernel to use updated packages.\n"
     ]
    },
    {
     "name": "stderr",
     "output_type": "stream",
     "text": [
      "\n",
      "[notice] A new release of pip is available: 24.1.1 -> 25.1.1\n",
      "[notice] To update, run: C:\\Users\\ASUS\\AppData\\Local\\Programs\\Python\\Python311\\python.exe -m pip install --upgrade pip\n"
     ]
    }
   ],
   "source": [
    "pip install ssgetpy scipy"
   ]
  },
  {
   "cell_type": "code",
   "execution_count": 14,
   "id": "30a32a64-7196-4dc4-bb3f-8350b23b8969",
   "metadata": {},
   "outputs": [
    {
     "name": "stdout",
     "output_type": "stream",
     "text": [
      "Requirement already satisfied: ssgetpy in c:\\users\\asus\\appdata\\local\\programs\\python\\python311\\lib\\site-packages (1.0rc2)\n",
      "Requirement already satisfied: scipy in c:\\users\\asus\\appdata\\local\\programs\\python\\python311\\lib\\site-packages (1.13.1)\n",
      "Requirement already satisfied: networkx in c:\\users\\asus\\appdata\\local\\programs\\python\\python311\\lib\\site-packages (3.3)\n",
      "Requirement already satisfied: requests>=2.22 in c:\\users\\asus\\appdata\\local\\programs\\python\\python311\\lib\\site-packages (from ssgetpy) (2.32.3)\n",
      "Requirement already satisfied: tqdm>=4.41 in c:\\users\\asus\\appdata\\local\\programs\\python\\python311\\lib\\site-packages (from ssgetpy) (4.66.4)\n",
      "Requirement already satisfied: numpy<2.3,>=1.22.4 in c:\\users\\asus\\appdata\\local\\programs\\python\\python311\\lib\\site-packages (from scipy) (1.26.4)\n",
      "Requirement already satisfied: charset-normalizer<4,>=2 in c:\\users\\asus\\appdata\\local\\programs\\python\\python311\\lib\\site-packages (from requests>=2.22->ssgetpy) (3.3.2)\n",
      "Requirement already satisfied: idna<4,>=2.5 in c:\\users\\asus\\appdata\\local\\programs\\python\\python311\\lib\\site-packages (from requests>=2.22->ssgetpy) (3.7)\n",
      "Requirement already satisfied: urllib3<3,>=1.21.1 in c:\\users\\asus\\appdata\\local\\programs\\python\\python311\\lib\\site-packages (from requests>=2.22->ssgetpy) (2.2.2)\n",
      "Requirement already satisfied: certifi>=2017.4.17 in c:\\users\\asus\\appdata\\local\\programs\\python\\python311\\lib\\site-packages (from requests>=2.22->ssgetpy) (2024.6.2)\n",
      "Requirement already satisfied: colorama in c:\\users\\asus\\appdata\\local\\programs\\python\\python311\\lib\\site-packages (from tqdm>=4.41->ssgetpy) (0.4.6)\n"
     ]
    },
    {
     "name": "stderr",
     "output_type": "stream",
     "text": [
      "\n",
      "[notice] A new release of pip is available: 24.1.1 -> 25.1.1\n",
      "[notice] To update, run: C:\\Users\\ASUS\\AppData\\Local\\Programs\\Python\\Python311\\python.exe -m pip install --upgrade pip\n"
     ]
    }
   ],
   "source": [
    "# In Jupyter Notebook, prefix with an exclamation mark:\n",
    "!pip install --user ssgetpy scipy networkx"
   ]
  },
  {
   "cell_type": "code",
   "execution_count": 22,
   "id": "ad3f69cb-d98a-4eef-8a3a-e18d2ceaa20c",
   "metadata": {},
   "outputs": [],
   "source": [
    "import ssgetpy\n",
    "import gzip\n",
    "import shutil\n",
    "import os\n",
    "from scipy.io import mmread\n",
    "from scipy.sparse.csgraph import reverse_cuthill_mckee\n",
    "import numpy as np\n"
   ]
  },
  {
   "cell_type": "code",
   "execution_count": 23,
   "id": "8dcf6fea-7a51-464d-b6cb-8658389ff30a",
   "metadata": {},
   "outputs": [],
   "source": [
    "# 1. Fetch the 1138_bus matrix and get the path to its downloaded file\n",
    "mat = ssgetpy.fetch(1138)[0]\n",
    "downloaded_paths = mat.download()       # e.g., ['/home/.../1138_bus.mtx.gz']\n",
    "gz_path = downloaded_paths[0]\n",
    "\n",
    "# 2. Derive mtx_path by stripping exactly one “.gz” (if present)\n",
    "base, ext = os.path.splitext(gz_path)\n",
    "if ext.lower() == '.gz':\n",
    "    mtx_path = base                # now ends with “.mtx”\n",
    "else:\n",
    "    mtx_path = gz_path             # already uncompressed"
   ]
  },
  {
   "cell_type": "code",
   "execution_count": 24,
   "id": "a46866df-17a1-4362-9daa-25eb914fe448",
   "metadata": {},
   "outputs": [
    {
     "name": "stdout",
     "output_type": "stream",
     "text": [
      "Banner: oscil_dcop_27/oscil_dcop_27.mtx\u0000\u0000\u0000\u0000\u0000\u0000\u0000\u0000\u0000\u0000\u0000\u0000\u0000\u0000\u0000\u0000\u0000\u0000\u0000\u0000\u0000\u0000\u0000\u0000\u0000\u0000\u0000\u0000\u0000\u0000\u0000\u0000\u0000\u0000\u0000\u0000\u0000\u0000\u0000\u0000\u0000\u0000\u0000\u0000\u0000\u0000\u0000\u0000\u0000\u0000\u0000\u0000\u0000\u0000\u0000\u0000\u0000\u0000\u0000\u0000\u0000\u0000\u0000\u0000\u0000\u0000\u0000\u0000\u0000100600 \u0000     0 \u0000     0 \u0000      75021 10557526520  15066\u0000 0\u0000\u0000\u0000\u0000\u0000\u0000\u0000\u0000\u0000\u0000\u0000\u0000\u0000\u0000\u0000\u0000\u0000\u0000\u0000\u0000\u0000\u0000\u0000\u0000\u0000\u0000\u0000\u0000\u0000\u0000\u0000\u0000\u0000\u0000\u0000\u0000\u0000\u0000\u0000\u0000\u0000\u0000\u0000\u0000\u0000\u0000\u0000\u0000\u0000\u0000\u0000\u0000\u0000\u0000\u0000\u0000\u0000\u0000\u0000\u0000\u0000\u0000\u0000\u0000\u0000\u0000\u0000\u0000\u0000\u0000\u0000\u0000\u0000\u0000\u0000\u0000\u0000\u0000\u0000\u0000\u0000\u0000\u0000\u0000\u0000\u0000\u0000\u0000\u0000\u0000\u0000\u0000\u0000\u0000\u0000\u0000\u0000\u0000\u0000\u0000ustar\u0000\u0000\u0000davis\u0000\u0000\u0000\u0000\u0000\u0000\u0000\u0000\u0000\u0000\u0000\u0000\u0000\u0000\u0000\u0000\u0000\u0000\u0000\u0000\u0000\u0000\u0000\u0000\u0000\u0000\u0000\u0000\u0000\u0000\u0000\u0000\u0000\u0000\u0000\u0000\u0000\u0000\u0000\u0000\u0000\u0000\u0000\u0000\u0000\u0000\u0000\u0000\u0000\u0000\u0000\u0000\u0000\u0000\u0000\u0000\u0000\u0000\u0000     0 \u0000     0 \u0000\u0000\u0000\u0000\u0000\u0000\u0000\u0000\u0000\u0000\u0000\u0000\u0000\u0000\u0000\u0000\u0000\u0000\u0000\u0000\u0000\u0000\u0000\u0000\u0000\u0000\u0000\u0000\u0000\u0000\u0000\u0000\u0000\u0000\u0000\u0000\u0000\u0000\u0000\u0000\u0000\u0000\u0000\u0000\u0000\u0000\u0000\u0000\u0000\u0000\u0000\u0000\u0000\u0000\u0000\u0000\u0000\u0000\u0000\u0000\u0000\u0000\u0000\u0000\u0000\u0000\u0000\u0000\u0000\u0000\u0000\u0000\u0000\u0000\u0000\u0000\u0000\u0000\u0000\u0000\u0000\u0000\u0000\u0000\u0000\u0000\u0000\u0000\u0000\u0000\u0000\u0000\u0000\u0000\u0000\u0000\u0000\u0000\u0000\u0000\u0000\u0000\u0000\u0000\u0000\u0000\u0000\u0000\u0000\u0000\u0000\u0000\u0000\u0000\u0000\u0000\u0000\u0000\u0000\u0000\u0000\u0000\u0000\u0000\u0000\u0000\u0000\u0000\u0000\u0000\u0000\u0000\u0000\u0000\u0000\u0000\u0000\u0000\u0000\u0000\u0000\u0000\u0000\u0000\u0000\u0000\u0000\u0000\u0000\u0000\u0000\u0000\u0000\u0000\u0000\u0000\u0000\u0000\u0000\u0000\u0000\u0000\u0000\u0000\u0000\u0000\u0000\u0000%%MatrixMarket matrix coordinate real general\n"
     ]
    }
   ],
   "source": [
    "if ext.lower() == '.gz':\n",
    "    with gzip.open(gz_path, 'rb') as f_in, open(mtx_path, 'wb') as f_out:\n",
    "        shutil.copyfileobj(f_in, f_out)\n",
    "\n",
    "# 4. Verify the banner (optional)\n",
    "with open(mtx_path, 'rt') as f:\n",
    "    print(\"Banner:\", f.readline().strip())"
   ]
  },
  {
   "cell_type": "code",
   "execution_count": 26,
   "id": "fb7d86e4-f2cc-4e4d-9e9e-6ad295eb4e80",
   "metadata": {},
   "outputs": [
    {
     "ename": "ValueError",
     "evalue": "Line 1: Not a Matrix Market file. Missing banner.",
     "output_type": "error",
     "traceback": [
      "\u001b[1;31m---------------------------------------------------------------------------\u001b[0m",
      "\u001b[1;31mValueError\u001b[0m                                Traceback (most recent call last)",
      "Cell \u001b[1;32mIn[26], line 1\u001b[0m\n\u001b[1;32m----> 1\u001b[0m A \u001b[38;5;241m=\u001b[39m \u001b[43mmmread\u001b[49m\u001b[43m(\u001b[49m\u001b[43mgz_path\u001b[49m\u001b[43m)\u001b[49m\u001b[38;5;241m.\u001b[39mtocsr()\n",
      "File \u001b[1;32m~\\AppData\\Local\\Programs\\Python\\Python311\\Lib\\site-packages\\scipy\\io\\_fast_matrix_market\\__init__.py:354\u001b[0m, in \u001b[0;36mmmread\u001b[1;34m(source)\u001b[0m\n\u001b[0;32m    294\u001b[0m \u001b[38;5;28;01mdef\u001b[39;00m \u001b[38;5;21mmmread\u001b[39m(source):\n\u001b[0;32m    295\u001b[0m \u001b[38;5;250m    \u001b[39m\u001b[38;5;124;03m\"\"\"\u001b[39;00m\n\u001b[0;32m    296\u001b[0m \u001b[38;5;124;03m    Reads the contents of a Matrix Market file-like 'source' into a matrix.\u001b[39;00m\n\u001b[0;32m    297\u001b[0m \n\u001b[1;32m   (...)\u001b[0m\n\u001b[0;32m    352\u001b[0m \n\u001b[0;32m    353\u001b[0m \u001b[38;5;124;03m    \"\"\"\u001b[39;00m\n\u001b[1;32m--> 354\u001b[0m     cursor, stream_to_close \u001b[38;5;241m=\u001b[39m \u001b[43m_get_read_cursor\u001b[49m\u001b[43m(\u001b[49m\u001b[43msource\u001b[49m\u001b[43m)\u001b[49m\n\u001b[0;32m    356\u001b[0m     \u001b[38;5;28;01mif\u001b[39;00m cursor\u001b[38;5;241m.\u001b[39mheader\u001b[38;5;241m.\u001b[39mformat \u001b[38;5;241m==\u001b[39m \u001b[38;5;124m\"\u001b[39m\u001b[38;5;124marray\u001b[39m\u001b[38;5;124m\"\u001b[39m:\n\u001b[0;32m    357\u001b[0m         mat \u001b[38;5;241m=\u001b[39m _read_body_array(cursor)\n",
      "File \u001b[1;32m~\\AppData\\Local\\Programs\\Python\\Python311\\Lib\\site-packages\\scipy\\io\\_fast_matrix_market\\__init__.py:203\u001b[0m, in \u001b[0;36m_get_read_cursor\u001b[1;34m(source, parallelism)\u001b[0m\n\u001b[0;32m    201\u001b[0m     \u001b[38;5;28;01mif\u001b[39;00m \u001b[38;5;28misinstance\u001b[39m(source, io\u001b[38;5;241m.\u001b[39mTextIOBase):\n\u001b[0;32m    202\u001b[0m         source \u001b[38;5;241m=\u001b[39m _TextToBytesWrapper(source)\n\u001b[1;32m--> 203\u001b[0m     \u001b[38;5;28;01mreturn\u001b[39;00m \u001b[43m_fmm_core\u001b[49m\u001b[38;5;241;43m.\u001b[39;49m\u001b[43mopen_read_stream\u001b[49m\u001b[43m(\u001b[49m\u001b[43msource\u001b[49m\u001b[43m,\u001b[49m\u001b[43m \u001b[49m\u001b[43mparallelism\u001b[49m\u001b[43m)\u001b[49m, ret_stream_to_close\n\u001b[0;32m    204\u001b[0m \u001b[38;5;28;01melse\u001b[39;00m:\n\u001b[0;32m    205\u001b[0m     \u001b[38;5;28;01mraise\u001b[39;00m \u001b[38;5;167;01mTypeError\u001b[39;00m(\u001b[38;5;124m\"\u001b[39m\u001b[38;5;124mUnknown source type\u001b[39m\u001b[38;5;124m\"\u001b[39m)\n",
      "\u001b[1;31mValueError\u001b[0m: Line 1: Not a Matrix Market file. Missing banner."
     ]
    }
   ],
   "source": [
    "A = mmread(gz_path).tocsr()"
   ]
  },
  {
   "cell_type": "code",
   "execution_count": 27,
   "id": "63f71923-2cd8-4883-9511-79473203bccd",
   "metadata": {},
   "outputs": [
    {
     "ename": "ValueError",
     "evalue": "Line 1: Not a Matrix Market file. Missing banner.",
     "output_type": "error",
     "traceback": [
      "\u001b[1;31m---------------------------------------------------------------------------\u001b[0m",
      "\u001b[1;31mValueError\u001b[0m                                Traceback (most recent call last)",
      "Cell \u001b[1;32mIn[27], line 13\u001b[0m\n\u001b[0;32m     11\u001b[0m \u001b[38;5;66;03m# 2. Open gzip in text mode and pass to mmread\u001b[39;00m\n\u001b[0;32m     12\u001b[0m \u001b[38;5;28;01mwith\u001b[39;00m gzip\u001b[38;5;241m.\u001b[39mopen(gz_path, \u001b[38;5;124m'\u001b[39m\u001b[38;5;124mrt\u001b[39m\u001b[38;5;124m'\u001b[39m) \u001b[38;5;28;01mas\u001b[39;00m f:\n\u001b[1;32m---> 13\u001b[0m     A \u001b[38;5;241m=\u001b[39m \u001b[43mmmread\u001b[49m\u001b[43m(\u001b[49m\u001b[43mf\u001b[49m\u001b[43m)\u001b[49m\u001b[38;5;241m.\u001b[39mtocsr()\n\u001b[0;32m     15\u001b[0m \u001b[38;5;66;03m# 3. Reorder and compute bandwidth\u001b[39;00m\n\u001b[0;32m     16\u001b[0m perm \u001b[38;5;241m=\u001b[39m reverse_cuthill_mckee(A, symmetric_mode\u001b[38;5;241m=\u001b[39m\u001b[38;5;28;01mTrue\u001b[39;00m)\n",
      "File \u001b[1;32m~\\AppData\\Local\\Programs\\Python\\Python311\\Lib\\site-packages\\scipy\\io\\_fast_matrix_market\\__init__.py:354\u001b[0m, in \u001b[0;36mmmread\u001b[1;34m(source)\u001b[0m\n\u001b[0;32m    294\u001b[0m \u001b[38;5;28;01mdef\u001b[39;00m \u001b[38;5;21mmmread\u001b[39m(source):\n\u001b[0;32m    295\u001b[0m \u001b[38;5;250m    \u001b[39m\u001b[38;5;124;03m\"\"\"\u001b[39;00m\n\u001b[0;32m    296\u001b[0m \u001b[38;5;124;03m    Reads the contents of a Matrix Market file-like 'source' into a matrix.\u001b[39;00m\n\u001b[0;32m    297\u001b[0m \n\u001b[1;32m   (...)\u001b[0m\n\u001b[0;32m    352\u001b[0m \n\u001b[0;32m    353\u001b[0m \u001b[38;5;124;03m    \"\"\"\u001b[39;00m\n\u001b[1;32m--> 354\u001b[0m     cursor, stream_to_close \u001b[38;5;241m=\u001b[39m \u001b[43m_get_read_cursor\u001b[49m\u001b[43m(\u001b[49m\u001b[43msource\u001b[49m\u001b[43m)\u001b[49m\n\u001b[0;32m    356\u001b[0m     \u001b[38;5;28;01mif\u001b[39;00m cursor\u001b[38;5;241m.\u001b[39mheader\u001b[38;5;241m.\u001b[39mformat \u001b[38;5;241m==\u001b[39m \u001b[38;5;124m\"\u001b[39m\u001b[38;5;124marray\u001b[39m\u001b[38;5;124m\"\u001b[39m:\n\u001b[0;32m    357\u001b[0m         mat \u001b[38;5;241m=\u001b[39m _read_body_array(cursor)\n",
      "File \u001b[1;32m~\\AppData\\Local\\Programs\\Python\\Python311\\Lib\\site-packages\\scipy\\io\\_fast_matrix_market\\__init__.py:203\u001b[0m, in \u001b[0;36m_get_read_cursor\u001b[1;34m(source, parallelism)\u001b[0m\n\u001b[0;32m    201\u001b[0m     \u001b[38;5;28;01mif\u001b[39;00m \u001b[38;5;28misinstance\u001b[39m(source, io\u001b[38;5;241m.\u001b[39mTextIOBase):\n\u001b[0;32m    202\u001b[0m         source \u001b[38;5;241m=\u001b[39m _TextToBytesWrapper(source)\n\u001b[1;32m--> 203\u001b[0m     \u001b[38;5;28;01mreturn\u001b[39;00m \u001b[43m_fmm_core\u001b[49m\u001b[38;5;241;43m.\u001b[39;49m\u001b[43mopen_read_stream\u001b[49m\u001b[43m(\u001b[49m\u001b[43msource\u001b[49m\u001b[43m,\u001b[49m\u001b[43m \u001b[49m\u001b[43mparallelism\u001b[49m\u001b[43m)\u001b[49m, ret_stream_to_close\n\u001b[0;32m    204\u001b[0m \u001b[38;5;28;01melse\u001b[39;00m:\n\u001b[0;32m    205\u001b[0m     \u001b[38;5;28;01mraise\u001b[39;00m \u001b[38;5;167;01mTypeError\u001b[39;00m(\u001b[38;5;124m\"\u001b[39m\u001b[38;5;124mUnknown source type\u001b[39m\u001b[38;5;124m\"\u001b[39m)\n",
      "\u001b[1;31mValueError\u001b[0m: Line 1: Not a Matrix Market file. Missing banner."
     ]
    }
   ],
   "source": [
    "import gzip\n",
    "from scipy.io import mmread\n",
    "from scipy.sparse.csgraph import reverse_cuthill_mckee\n",
    "import ssgetpy\n",
    "import numpy as np\n",
    "\n",
    "# 1. Download the 1138_bus matrix (gzipped .mtx.gz)\n",
    "mat = ssgetpy.fetch(1138)[0]\n",
    "gz_path = mat.download()[0]\n",
    "\n",
    "# 2. Open gzip in text mode and pass to mmread\n",
    "with gzip.open(gz_path, 'rt') as f:\n",
    "    A = mmread(f).tocsr()\n",
    "\n",
    "# 3. Reorder and compute bandwidth\n",
    "perm = reverse_cuthill_mckee(A, symmetric_mode=True)\n",
    "A_rcm = A[perm, :][:, perm]\n",
    "rows, cols = A_rcm.nonzero()\n",
    "bandwidth = np.abs(rows - cols).max()\n",
    "print(\"Bandwidth:\", bandwidth)  # ≈132\n"
   ]
  },
  {
   "cell_type": "code",
   "execution_count": 28,
   "id": "9d4a5a0b-30d9-417b-9d62-f43618d678eb",
   "metadata": {},
   "outputs": [
    {
     "name": "stdout",
     "output_type": "stream",
     "text": [
      "Collecting fast_matrix_marketNote: you may need to restart the kernel to use updated packages.\n",
      "\n",
      "  Downloading fast_matrix_market-1.7.6-cp311-cp311-win_amd64.whl.metadata (7.5 kB)\n",
      "Downloading fast_matrix_market-1.7.6-cp311-cp311-win_amd64.whl (579 kB)\n",
      "   ---------------------------------------- 0.0/579.8 kB ? eta -:--:--\n",
      "   -- ------------------------------------- 30.7/579.8 kB 1.3 MB/s eta 0:00:01\n",
      "   ----- ---------------------------------- 81.9/579.8 kB 1.1 MB/s eta 0:00:01\n",
      "   --------- ------------------------------ 143.4/579.8 kB 1.1 MB/s eta 0:00:01\n",
      "   ------------- -------------------------- 194.6/579.8 kB 1.1 MB/s eta 0:00:01\n",
      "   ---------------- ----------------------- 245.8/579.8 kB 1.1 MB/s eta 0:00:01\n",
      "   --------------------- ------------------ 307.2/579.8 kB 1.1 MB/s eta 0:00:01\n",
      "   ------------------------- -------------- 368.6/579.8 kB 1.1 MB/s eta 0:00:01\n",
      "   ------------------------------ --------- 440.3/579.8 kB 1.2 MB/s eta 0:00:01\n",
      "   ---------------------------------- ----- 501.8/579.8 kB 1.3 MB/s eta 0:00:01\n",
      "   ---------------------------------------- 579.8/579.8 kB 1.3 MB/s eta 0:00:00\n",
      "Installing collected packages: fast_matrix_market\n",
      "Successfully installed fast_matrix_market-1.7.6\n"
     ]
    },
    {
     "name": "stderr",
     "output_type": "stream",
     "text": [
      "\n",
      "[notice] A new release of pip is available: 24.1.1 -> 25.1.1\n",
      "[notice] To update, run: C:\\Users\\ASUS\\AppData\\Local\\Programs\\Python\\Python311\\python.exe -m pip install --upgrade pip\n"
     ]
    }
   ],
   "source": [
    "pip install fast_matrix_market\n"
   ]
  },
  {
   "cell_type": "code",
   "execution_count": 34,
   "id": "102f98ec-f1ba-44ec-ba15-2038ffb24ceb",
   "metadata": {},
   "outputs": [
    {
     "ename": "ImportError",
     "evalue": "cannot import name 'from_scipy_sparse_matrix' from 'networkx.convert_matrix' (C:\\Users\\ASUS\\AppData\\Local\\Programs\\Python\\Python311\\Lib\\site-packages\\networkx\\convert_matrix.py)",
     "output_type": "error",
     "traceback": [
      "\u001b[1;31m---------------------------------------------------------------------------\u001b[0m",
      "\u001b[1;31mImportError\u001b[0m                               Traceback (most recent call last)",
      "Cell \u001b[1;32mIn[34], line 1\u001b[0m\n\u001b[1;32m----> 1\u001b[0m \u001b[38;5;28;01mfrom\u001b[39;00m \u001b[38;5;21;01mnetworkx\u001b[39;00m\u001b[38;5;21;01m.\u001b[39;00m\u001b[38;5;21;01mconvert_matrix\u001b[39;00m \u001b[38;5;28;01mimport\u001b[39;00m from_scipy_sparse_matrix\n\u001b[0;32m      2\u001b[0m G \u001b[38;5;241m=\u001b[39m from_scipy_sparse_matrix(A)\n",
      "\u001b[1;31mImportError\u001b[0m: cannot import name 'from_scipy_sparse_matrix' from 'networkx.convert_matrix' (C:\\Users\\ASUS\\AppData\\Local\\Programs\\Python\\Python311\\Lib\\site-packages\\networkx\\convert_matrix.py)"
     ]
    }
   ],
   "source": [
    "from networkx.convert_matrix import from_scipy_sparse_matrix\n",
    "G = from_scipy_sparse_matrix(A)\n"
   ]
  },
  {
   "cell_type": "code",
   "execution_count": 35,
   "id": "68124642-b114-41ea-87fd-233078ab12ad",
   "metadata": {},
   "outputs": [
    {
     "name": "stdout",
     "output_type": "stream",
     "text": [
      "Requirement already satisfied: networkx in c:\\users\\asus\\appdata\\local\\programs\\python\\python311\\lib\\site-packages (3.5)Note: you may need to restart the kernel to use updated packages.\n"
     ]
    },
    {
     "name": "stderr",
     "output_type": "stream",
     "text": [
      "\n",
      "[notice] A new release of pip is available: 24.1.1 -> 25.1.1\n",
      "[notice] To update, run: C:\\Users\\ASUS\\AppData\\Local\\Programs\\Python\\Python311\\python.exe -m pip install --upgrade pip\n"
     ]
    },
    {
     "name": "stdout",
     "output_type": "stream",
     "text": [
      "\n"
     ]
    }
   ],
   "source": [
    "pip install --upgrade networkx\n"
   ]
  },
  {
   "cell_type": "code",
   "execution_count": 36,
   "id": "e58d66cb-9ced-406f-9f86-352005f2bd0a",
   "metadata": {},
   "outputs": [
    {
     "ename": "NameError",
     "evalue": "name 'A' is not defined",
     "output_type": "error",
     "traceback": [
      "\u001b[1;31m---------------------------------------------------------------------------\u001b[0m",
      "\u001b[1;31mNameError\u001b[0m                                 Traceback (most recent call last)",
      "Cell \u001b[1;32mIn[36], line 11\u001b[0m\n\u001b[0;32m      6\u001b[0m \u001b[38;5;28;01mfrom\u001b[39;00m \u001b[38;5;21;01mnetworkx\u001b[39;00m\u001b[38;5;21;01m.\u001b[39;00m\u001b[38;5;21;01mconvert_matrix\u001b[39;00m \u001b[38;5;28;01mimport\u001b[39;00m from_scipy_sparse_array  \u001b[38;5;66;03m# updated import\u001b[39;00m\n\u001b[0;32m      8\u001b[0m \u001b[38;5;66;03m# … load A as a scipy CSR matrix …\u001b[39;00m\n\u001b[0;32m      9\u001b[0m \n\u001b[0;32m     10\u001b[0m \u001b[38;5;66;03m# build graph\u001b[39;00m\n\u001b[1;32m---> 11\u001b[0m G \u001b[38;5;241m=\u001b[39m from_scipy_sparse_array(\u001b[43mA\u001b[49m)\n\u001b[0;32m     12\u001b[0m \u001b[38;5;66;03m# … rest of workflow …\u001b[39;00m\n",
      "\u001b[1;31mNameError\u001b[0m: name 'A' is not defined"
     ]
    }
   ],
   "source": [
    "import gzip\n",
    "from scipy.io import mmread\n",
    "from scipy.sparse.csgraph import reverse_cuthill_mckee\n",
    "import numpy as np\n",
    "import networkx as nx\n",
    "from networkx.convert_matrix import from_scipy_sparse_array  # updated import\n",
    "\n",
    "# … load A as a scipy CSR matrix …\n",
    "\n",
    "# build graph\n",
    "G = from_scipy_sparse_array(A)\n",
    "# … rest of workflow …\n"
   ]
  },
  {
   "cell_type": "code",
   "execution_count": 37,
   "id": "d328d786-d715-42a4-8fe7-4255e15ae42a",
   "metadata": {},
   "outputs": [
    {
     "name": "stdout",
     "output_type": "stream",
     "text": [
      "Downloaded (gzipped) MatrixMarket file at: C:\\Users\\ASUS\\AppData\\Roaming\\ssgetpy\\MM\\Sandia\\oscil_dcop_27.tar.gz\n",
      "Decompressed MatrixMarket file saved at: C:\\Users\\ASUS\\AppData\\Roaming\\ssgetpy\\MM\\Sandia\\oscil_dcop_27.tar\n"
     ]
    }
   ],
   "source": [
    "# Install required packages if not already installed\n",
    "# In a Jupyter cell, run:\n",
    "# !pip install ssgetpy scipy\n",
    "\n",
    "import ssgetpy\n",
    "import gzip\n",
    "import shutil\n",
    "import os\n",
    "\n",
    "# 1. Fetch and download the 1138_bus matrix (gzipped .mtx.gz)\n",
    "mat = ssgetpy.fetch(1138)[0]\n",
    "gz_path = mat.download()[0]\n",
    "print(\"Downloaded (gzipped) MatrixMarket file at:\", gz_path)\n",
    "\n",
    "# 2. Derive the target .mtx path by stripping exactly one “.gz” extension\n",
    "base, ext = os.path.splitext(gz_path)\n",
    "if ext.lower() == '.gz':\n",
    "    mtx_path = base             # will end with \".mtx\"\n",
    "else:\n",
    "    raise RuntimeError(f\"Expected a .gz file but got '{gz_path}'\")\n",
    "\n",
    "# 3. Decompress the .mtx.gz file to .mtx\n",
    "with gzip.open(gz_path, 'rb') as f_in, open(mtx_path, 'wb') as f_out:\n",
    "    shutil.copyfileobj(f_in, f_out)\n",
    "\n",
    "print(\"Decompressed MatrixMarket file saved at:\", mtx_path)\n"
   ]
  },
  {
   "cell_type": "code",
   "execution_count": 38,
   "id": "9f8a794a-b2a5-446a-b88b-513e55821cd3",
   "metadata": {},
   "outputs": [
    {
     "ename": "FileNotFoundError",
     "evalue": "[Errno 2] No such file or directory: '1138_bus.mtx'",
     "output_type": "error",
     "traceback": [
      "\u001b[1;31m---------------------------------------------------------------------------\u001b[0m",
      "\u001b[1;31mFileNotFoundError\u001b[0m                         Traceback (most recent call last)",
      "Cell \u001b[1;32mIn[38], line 48\u001b[0m\n\u001b[0;32m     44\u001b[0m     \u001b[38;5;28;01mreturn\u001b[39;00m G\n\u001b[0;32m     46\u001b[0m \u001b[38;5;66;03m# Usage example:\u001b[39;00m\n\u001b[0;32m     47\u001b[0m \u001b[38;5;66;03m# Assuming you have already decompressed '1138_bus.mtx.gz' to '1138_bus.mtx'.\u001b[39;00m\n\u001b[1;32m---> 48\u001b[0m graph \u001b[38;5;241m=\u001b[39m \u001b[43mload_mtx_as_graph\u001b[49m\u001b[43m(\u001b[49m\u001b[38;5;124;43m'\u001b[39;49m\u001b[38;5;124;43m1138_bus.mtx\u001b[39;49m\u001b[38;5;124;43m'\u001b[39;49m\u001b[43m)\u001b[49m\n\u001b[0;32m     49\u001b[0m \u001b[38;5;28mprint\u001b[39m(\u001b[38;5;124m\"\u001b[39m\u001b[38;5;124mLoaded graph with\u001b[39m\u001b[38;5;124m\"\u001b[39m, graph\u001b[38;5;241m.\u001b[39mnumber_of_nodes(), \u001b[38;5;124m\"\u001b[39m\u001b[38;5;124mnodes and\u001b[39m\u001b[38;5;124m\"\u001b[39m, graph\u001b[38;5;241m.\u001b[39mnumber_of_edges(), \u001b[38;5;124m\"\u001b[39m\u001b[38;5;124medges.\u001b[39m\u001b[38;5;124m\"\u001b[39m)\n",
      "Cell \u001b[1;32mIn[38], line 21\u001b[0m, in \u001b[0;36mload_mtx_as_graph\u001b[1;34m(path, zero_based)\u001b[0m\n\u001b[0;32m      4\u001b[0m \u001b[38;5;250m\u001b[39m\u001b[38;5;124;03m\"\"\"\u001b[39;00m\n\u001b[0;32m      5\u001b[0m \u001b[38;5;124;03mLoad a symmetric sparse matrix from Matrix Market (.mtx) into a NetworkX Graph.\u001b[39;00m\n\u001b[0;32m      6\u001b[0m \u001b[38;5;124;03m\u001b[39;00m\n\u001b[1;32m   (...)\u001b[0m\n\u001b[0;32m     18\u001b[0m \u001b[38;5;124;03m    An undirected NetworkX graph whose adjacency corresponds to the matrix.\u001b[39;00m\n\u001b[0;32m     19\u001b[0m \u001b[38;5;124;03m\"\"\"\u001b[39;00m\n\u001b[0;32m     20\u001b[0m G \u001b[38;5;241m=\u001b[39m nx\u001b[38;5;241m.\u001b[39mGraph()\n\u001b[1;32m---> 21\u001b[0m \u001b[38;5;28;01mwith\u001b[39;00m \u001b[38;5;28;43mopen\u001b[39;49m\u001b[43m(\u001b[49m\u001b[43mpath\u001b[49m\u001b[43m,\u001b[49m\u001b[43m \u001b[49m\u001b[38;5;124;43m'\u001b[39;49m\u001b[38;5;124;43mrt\u001b[39;49m\u001b[38;5;124;43m'\u001b[39;49m\u001b[43m)\u001b[49m \u001b[38;5;28;01mas\u001b[39;00m f:\n\u001b[0;32m     22\u001b[0m     \u001b[38;5;66;03m# Skip comments and read header\u001b[39;00m\n\u001b[0;32m     23\u001b[0m     \u001b[38;5;28;01mfor\u001b[39;00m line \u001b[38;5;129;01min\u001b[39;00m f:\n\u001b[0;32m     24\u001b[0m         line \u001b[38;5;241m=\u001b[39m line\u001b[38;5;241m.\u001b[39mstrip()\n",
      "File \u001b[1;32m~\\AppData\\Local\\Programs\\Python\\Python311\\Lib\\site-packages\\IPython\\core\\interactiveshell.py:324\u001b[0m, in \u001b[0;36m_modified_open\u001b[1;34m(file, *args, **kwargs)\u001b[0m\n\u001b[0;32m    317\u001b[0m \u001b[38;5;28;01mif\u001b[39;00m file \u001b[38;5;129;01min\u001b[39;00m {\u001b[38;5;241m0\u001b[39m, \u001b[38;5;241m1\u001b[39m, \u001b[38;5;241m2\u001b[39m}:\n\u001b[0;32m    318\u001b[0m     \u001b[38;5;28;01mraise\u001b[39;00m \u001b[38;5;167;01mValueError\u001b[39;00m(\n\u001b[0;32m    319\u001b[0m         \u001b[38;5;124mf\u001b[39m\u001b[38;5;124m\"\u001b[39m\u001b[38;5;124mIPython won\u001b[39m\u001b[38;5;124m'\u001b[39m\u001b[38;5;124mt let you open fd=\u001b[39m\u001b[38;5;132;01m{\u001b[39;00mfile\u001b[38;5;132;01m}\u001b[39;00m\u001b[38;5;124m by default \u001b[39m\u001b[38;5;124m\"\u001b[39m\n\u001b[0;32m    320\u001b[0m         \u001b[38;5;124m\"\u001b[39m\u001b[38;5;124mas it is likely to crash IPython. If you know what you are doing, \u001b[39m\u001b[38;5;124m\"\u001b[39m\n\u001b[0;32m    321\u001b[0m         \u001b[38;5;124m\"\u001b[39m\u001b[38;5;124myou can use builtins\u001b[39m\u001b[38;5;124m'\u001b[39m\u001b[38;5;124m open.\u001b[39m\u001b[38;5;124m\"\u001b[39m\n\u001b[0;32m    322\u001b[0m     )\n\u001b[1;32m--> 324\u001b[0m \u001b[38;5;28;01mreturn\u001b[39;00m \u001b[43mio_open\u001b[49m\u001b[43m(\u001b[49m\u001b[43mfile\u001b[49m\u001b[43m,\u001b[49m\u001b[43m \u001b[49m\u001b[38;5;241;43m*\u001b[39;49m\u001b[43margs\u001b[49m\u001b[43m,\u001b[49m\u001b[43m \u001b[49m\u001b[38;5;241;43m*\u001b[39;49m\u001b[38;5;241;43m*\u001b[39;49m\u001b[43mkwargs\u001b[49m\u001b[43m)\u001b[49m\n",
      "\u001b[1;31mFileNotFoundError\u001b[0m: [Errno 2] No such file or directory: '1138_bus.mtx'"
     ]
    }
   ],
   "source": [
    "import networkx as nx\n",
    "\n",
    "def load_mtx_as_graph(path: str, zero_based: bool = True) -> nx.Graph:\n",
    "    \"\"\"\n",
    "    Load a symmetric sparse matrix from Matrix Market (.mtx) into a NetworkX Graph.\n",
    "    \n",
    "    Parameters\n",
    "    ----------\n",
    "    path\n",
    "        Path to the .mtx file (plain-text, decompressed).\n",
    "    zero_based\n",
    "        If True, treat indices in the file as 1-based and shift them to 0-based.\n",
    "        Set to False if the .mtx is already 0-based.\n",
    "        \n",
    "    Returns\n",
    "    -------\n",
    "    G : nx.Graph\n",
    "        An undirected NetworkX graph whose adjacency corresponds to the matrix.\n",
    "    \"\"\"\n",
    "    G = nx.Graph()\n",
    "    with open(path, 'rt') as f:\n",
    "        # Skip comments and read header\n",
    "        for line in f:\n",
    "            line = line.strip()\n",
    "            if line == '' or line.startswith('%'):\n",
    "                continue\n",
    "            # First non-comment non-blank line: dimensions\n",
    "            n_rows, n_cols, n_nonzeros = map(int, line.split())\n",
    "            break\n",
    "        \n",
    "        # Read each entry as an edge\n",
    "        for lineno, line in enumerate(f, start=1):\n",
    "            if line.strip() == '' or line.startswith('%'):\n",
    "                continue\n",
    "            i_str, j_str, *rest = line.split()\n",
    "            i, j = int(i_str), int(j_str)\n",
    "            # Convert to 0-based if needed\n",
    "            if zero_based:\n",
    "                i -= 1\n",
    "                j -= 1\n",
    "            # For symmetric matrices, only add one edge\n",
    "            G.add_edge(i, j)\n",
    "    \n",
    "    return G\n",
    "\n",
    "# Usage example:\n",
    "# Assuming you have already decompressed '1138_bus.mtx.gz' to '1138_bus.mtx'.\n",
    "graph = load_mtx_as_graph('1138_bus.mtx')\n",
    "print(\"Loaded graph with\", graph.number_of_nodes(), \"nodes and\", graph.number_of_edges(), \"edges.\")\n"
   ]
  },
  {
   "cell_type": "code",
   "execution_count": 40,
   "id": "42b32252-4cf0-4b1f-b35b-0a284eda0b37",
   "metadata": {},
   "outputs": [
    {
     "name": "stdout",
     "output_type": "stream",
     "text": [
      "Downloaded file paths:\n",
      "   C:\\Users\\ASUS\\AppData\\Roaming\\ssgetpy\\MM\\Sandia\\oscil_dcop_27.tar.gz\n",
      "   C:\\Users\\ASUS\\AppData\\Roaming\\ssgetpy\\MM\\Sandia\\oscil_dcop_27.tar.gz\n",
      "Cache directory: C:\\Users\\ASUS\\AppData\\Roaming\\ssgetpy\\MM\\Sandia\n"
     ]
    }
   ],
   "source": [
    "import ssgetpy\n",
    "import os\n",
    "\n",
    "# 1. Fetch the matrix (returns a MatrixList)\n",
    "mat_list = ssgetpy.fetch(1138)\n",
    "\n",
    "# 2. Extract the only Matrix object\n",
    "mat = mat_list[0]\n",
    "\n",
    "# 3. Ask it where it downloaded the file(s)\n",
    "paths = mat.download()  \n",
    "print(\"Downloaded file paths:\")\n",
    "for p in paths:\n",
    "    print(\"  \", p)\n",
    "\n",
    "# 4. To see the directory it lives in:\n",
    "cache_dir = os.path.dirname(paths[0])\n",
    "print(\"Cache directory:\", cache_dir)\n"
   ]
  },
  {
   "cell_type": "code",
   "execution_count": 41,
   "id": "883514bf-1dd2-42d7-a272-fdff592e4c55",
   "metadata": {},
   "outputs": [
    {
     "ename": "UnicodeDecodeError",
     "evalue": "'charmap' codec can't decode byte 0x8f in position 70: character maps to <undefined>",
     "output_type": "error",
     "traceback": [
      "\u001b[1;31m---------------------------------------------------------------------------\u001b[0m",
      "\u001b[1;31mUnicodeDecodeError\u001b[0m                        Traceback (most recent call last)",
      "Cell \u001b[1;32mIn[41], line 8\u001b[0m\n\u001b[0;32m      5\u001b[0m mtx_path \u001b[38;5;241m=\u001b[39m mtx_path_raw\u001b[38;5;241m.\u001b[39mrstrip(\u001b[38;5;124m'\u001b[39m\u001b[38;5;130;01m\\x00\u001b[39;00m\u001b[38;5;124m'\u001b[39m)\u001b[38;5;241m.\u001b[39mstrip()\n\u001b[0;32m      7\u001b[0m \u001b[38;5;66;03m# Now pass this clean path to load_mtx_as_graph:\u001b[39;00m\n\u001b[1;32m----> 8\u001b[0m graph \u001b[38;5;241m=\u001b[39m \u001b[43mload_mtx_as_graph\u001b[49m\u001b[43m(\u001b[49m\u001b[43mmtx_path\u001b[49m\u001b[43m)\u001b[49m\n",
      "Cell \u001b[1;32mIn[38], line 23\u001b[0m, in \u001b[0;36mload_mtx_as_graph\u001b[1;34m(path, zero_based)\u001b[0m\n\u001b[0;32m     20\u001b[0m G \u001b[38;5;241m=\u001b[39m nx\u001b[38;5;241m.\u001b[39mGraph()\n\u001b[0;32m     21\u001b[0m \u001b[38;5;28;01mwith\u001b[39;00m \u001b[38;5;28mopen\u001b[39m(path, \u001b[38;5;124m'\u001b[39m\u001b[38;5;124mrt\u001b[39m\u001b[38;5;124m'\u001b[39m) \u001b[38;5;28;01mas\u001b[39;00m f:\n\u001b[0;32m     22\u001b[0m     \u001b[38;5;66;03m# Skip comments and read header\u001b[39;00m\n\u001b[1;32m---> 23\u001b[0m \u001b[43m    \u001b[49m\u001b[38;5;28;43;01mfor\u001b[39;49;00m\u001b[43m \u001b[49m\u001b[43mline\u001b[49m\u001b[43m \u001b[49m\u001b[38;5;129;43;01min\u001b[39;49;00m\u001b[43m \u001b[49m\u001b[43mf\u001b[49m\u001b[43m:\u001b[49m\n\u001b[0;32m     24\u001b[0m \u001b[43m        \u001b[49m\u001b[43mline\u001b[49m\u001b[43m \u001b[49m\u001b[38;5;241;43m=\u001b[39;49m\u001b[43m \u001b[49m\u001b[43mline\u001b[49m\u001b[38;5;241;43m.\u001b[39;49m\u001b[43mstrip\u001b[49m\u001b[43m(\u001b[49m\u001b[43m)\u001b[49m\n\u001b[0;32m     25\u001b[0m \u001b[43m        \u001b[49m\u001b[38;5;28;43;01mif\u001b[39;49;00m\u001b[43m \u001b[49m\u001b[43mline\u001b[49m\u001b[43m \u001b[49m\u001b[38;5;241;43m==\u001b[39;49m\u001b[43m \u001b[49m\u001b[38;5;124;43m'\u001b[39;49m\u001b[38;5;124;43m'\u001b[39;49m\u001b[43m \u001b[49m\u001b[38;5;129;43;01mor\u001b[39;49;00m\u001b[43m \u001b[49m\u001b[43mline\u001b[49m\u001b[38;5;241;43m.\u001b[39;49m\u001b[43mstartswith\u001b[49m\u001b[43m(\u001b[49m\u001b[38;5;124;43m'\u001b[39;49m\u001b[38;5;124;43m%\u001b[39;49m\u001b[38;5;124;43m'\u001b[39;49m\u001b[43m)\u001b[49m\u001b[43m:\u001b[49m\n",
      "File \u001b[1;32m~\\AppData\\Local\\Programs\\Python\\Python311\\Lib\\encodings\\cp1252.py:23\u001b[0m, in \u001b[0;36mIncrementalDecoder.decode\u001b[1;34m(self, input, final)\u001b[0m\n\u001b[0;32m     22\u001b[0m \u001b[38;5;28;01mdef\u001b[39;00m \u001b[38;5;21mdecode\u001b[39m(\u001b[38;5;28mself\u001b[39m, \u001b[38;5;28minput\u001b[39m, final\u001b[38;5;241m=\u001b[39m\u001b[38;5;28;01mFalse\u001b[39;00m):\n\u001b[1;32m---> 23\u001b[0m     \u001b[38;5;28;01mreturn\u001b[39;00m codecs\u001b[38;5;241m.\u001b[39mcharmap_decode(\u001b[38;5;28minput\u001b[39m,\u001b[38;5;28mself\u001b[39m\u001b[38;5;241m.\u001b[39merrors,decoding_table)[\u001b[38;5;241m0\u001b[39m]\n",
      "\u001b[1;31mUnicodeDecodeError\u001b[0m: 'charmap' codec can't decode byte 0x8f in position 70: character maps to <undefined>"
     ]
    }
   ],
   "source": [
    "# Suppose your mtx_path was obtained from ssgetpy.download(), but contains nulls:\n",
    "mtx_path_raw = mat.download()[0]\n",
    "\n",
    "# Strip any trailing null bytes or whitespace:\n",
    "mtx_path = mtx_path_raw.rstrip('\\x00').strip()\n",
    "\n",
    "# Now pass this clean path to load_mtx_as_graph:\n",
    "graph = load_mtx_as_graph(mtx_path)\n"
   ]
  },
  {
   "cell_type": "code",
   "execution_count": null,
   "id": "70a2599a-c802-4a4d-8b01-91758da959bd",
   "metadata": {},
   "outputs": [],
   "source": []
  }
 ],
 "metadata": {
  "kernelspec": {
   "display_name": "Python 3 (ipykernel)",
   "language": "python",
   "name": "python3"
  },
  "language_info": {
   "codemirror_mode": {
    "name": "ipython",
    "version": 3
   },
   "file_extension": ".py",
   "mimetype": "text/x-python",
   "name": "python",
   "nbconvert_exporter": "python",
   "pygments_lexer": "ipython3",
   "version": "3.11.3"
  }
 },
 "nbformat": 4,
 "nbformat_minor": 5
}
